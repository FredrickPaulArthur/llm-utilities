{
 "cells": [
  {
   "cell_type": "code",
   "execution_count": null,
   "id": "00431585",
   "metadata": {},
   "outputs": [
    {
     "data": {
      "text/plain": [
       "True"
      ]
     },
     "execution_count": 2,
     "metadata": {},
     "output_type": "execute_result"
    }
   ],
   "source": [
    "from langchain_groq.chat_models import ChatGroq\n",
    "from langchain.prompts import ChatPromptTemplate\n",
    "import os\n",
    "from utils import get_completion\n",
    "from dotenv import load_dotenv\n",
    "load_dotenv()"
   ]
  },
  {
   "cell_type": "code",
   "execution_count": null,
   "id": "44c1bbb5",
   "metadata": {},
   "outputs": [
    {
     "name": "stdout",
     "output_type": "stream",
     "text": [
      "client=<groq.resources.chat.completions.Completions object at 0x000001FBF60B30E0> async_client=<groq.resources.chat.completions.AsyncCompletions object at 0x000001FBF60B3E00> model_name='openai/gpt-oss-120b' temperature=1e-08 model_kwargs={} groq_api_key=SecretStr('**********')\n"
     ]
    }
   ],
   "source": [
    "chat = ChatGroq(\n",
    "    api_key=os.environ['GROQ_API_KEY'], \n",
    "    temperature=0.0,\n",
    "    model=\"openai/gpt-oss-120b\"\n",
    ")\n",
    "print(chat)"
   ]
  },
  {
   "cell_type": "markdown",
   "id": "5c79f1ba",
   "metadata": {},
   "source": [
    "**The ChatPromptTemplate object has useful methods, so its used instead of regular string/fstring variable**"
   ]
  },
  {
   "cell_type": "code",
   "execution_count": null,
   "id": "ff393d66",
   "metadata": {},
   "outputs": [
    {
     "data": {
      "text/plain": [
       "['style', 'text']"
      ]
     },
     "execution_count": 3,
     "metadata": {},
     "output_type": "execute_result"
    }
   ],
   "source": [
    "template_string = \"\"\"Translate the text that is delimited by triple backticks into a style that is {style}. \\\n",
    "text: ```{text}```\n",
    "\"\"\"\n",
    "\n",
    "prompt_template = ChatPromptTemplate.from_template(template_string)\n",
    "prompt_template.messages[0].prompt.input_variables"
   ]
  },
  {
   "cell_type": "code",
   "execution_count": null,
   "id": "566a28b0",
   "metadata": {},
   "outputs": [
    {
     "name": "stdout",
     "output_type": "stream",
     "text": [
      "<class 'list'>\n",
      "<class 'langchain_core.messages.human.HumanMessage'>\n",
      "content='Translate the text that is delimited by triple backticks into a style that is American English, in a calm and respectful tone. text: ```\\nArrr, I be fuming that my blender lid flew off and splattered me kitchen walls with smoothie! And to make matters worst, the warranty dont cover the cost of cleaning up me kitchen. I need your help rignt now. mate!\\n```\\n' additional_kwargs={} response_metadata={}\n",
      "\n",
      "TRANSFORMED CUSTOMER MESSAGE:  I’m quite upset that the lid on my blender came off and splattered my kitchen walls with smoothie. Unfortunately, the warranty does not cover the cost of cleaning the kitchen. I would appreciate your help right away.\n"
     ]
    }
   ],
   "source": [
    "customer_style = \"\"\"American English, in a calm and respectful tone\"\"\"\n",
    "customer_email = \"\"\"\n",
    "Arrr, I be fuming that my blender lid flew off and splattered me kitchen walls with smoothie! \\\n",
    "And to make matters worst, the warranty dont cover the cost of cleaning up me kitchen. I need your help rignt now. mate!\n",
    "\"\"\"\n",
    "\n",
    "customer_messages = prompt_template.format_messages(\n",
    "    style=customer_style,\n",
    "    text=customer_email\n",
    ")\n",
    "\n",
    "print(type(customer_messages))\n",
    "print(type(customer_messages[0]))\n",
    "print(customer_messages[0])\n",
    "print(\"\\nTRANSFORMED CUSTOMER MESSAGE: \", get_completion(customer_messages))"
   ]
  },
  {
   "cell_type": "code",
   "execution_count": null,
   "id": "918e537a",
   "metadata": {},
   "outputs": [],
   "source": [
    "service_reply = \"\"\"Hey there customer, the warranty does not cover cleaning expenses for your kitchen \\\n",
    "because its your fault that you misused your blender by forgetting to put the lid on before starting the blender. \\\n",
    "Tough luck! See ya!\"\"\"\n",
    "\n",
    "service_style_pirate = \"\"\"a polite tone that speaks in English Pirate\"\"\""
   ]
  },
  {
   "cell_type": "code",
   "execution_count": null,
   "id": "21eb3f94",
   "metadata": {},
   "outputs": [
    {
     "name": "stdout",
     "output_type": "stream",
     "text": [
      "Translate the text that is delimited by triple backticks into a style that is a polite tone that speaks in English Pirate. text: ```Hey there customer, the warranty does not cover cleaning expenses for your kitchen because its your fault that you misused your blender by forgetting to put the lid on before starting the blender. Tough luck! See ya!```\n",
      "\n",
      "Ahoy, esteemed customer! I regret to inform ye that the warranty doth not extend to cover the cleaning expenses for yer galley, as the mishap arose from the misuse of yer blender—specifically, the lid was left ajar afore the blades set to work. I understand this be a disappointment, and I thank ye kindly for yer understanding. Fair winds to ye!\n"
     ]
    }
   ],
   "source": [
    "service_messages = prompt_template.format_messages(\n",
    "    style=service_style_pirate, text=service_reply\n",
    ")\n",
    "print(service_messages[0].content)\n",
    "\n",
    "service_response = get_completion(service_messages)\n",
    "print(service_response)"
   ]
  },
  {
   "cell_type": "markdown",
   "id": "3c920c8b",
   "metadata": {},
   "source": [
    "### LangChain's Output Parser"
   ]
  },
  {
   "cell_type": "code",
   "execution_count": null,
   "id": "a8e23bc7",
   "metadata": {},
   "outputs": [
    {
     "data": {
      "text/plain": [
       "{'gift': False, 'delivery_days': 5, 'price_value': 'pretty affordable'}"
      ]
     },
     "execution_count": 54,
     "metadata": {},
     "output_type": "execute_result"
    }
   ],
   "source": [
    "{\n",
    "    \"gift\": False,\n",
    "    \"delivery_days\": 5,\n",
    "    \"price_value\": \"pretty affordable\"\n",
    "}"
   ]
  },
  {
   "cell_type": "code",
   "execution_count": null,
   "id": "31e1a134",
   "metadata": {},
   "outputs": [],
   "source": [
    "customer_review = \"\"\"\\\n",
    "This leafblower is pretty amazing. It has 4 settings: candle blower, gentle breeze, wind city and tornado. \\\n",
    "It arrived in 2 days, just in time for my wife's anniversary present. I think my wife liked it so much she was speechless. \\\n",
    "So far I've been the only one using it, and I've been using it every other morning to clear the leaves on our lawn. \\\n",
    "Its slightly more expensive than the other leafblowers out there but I think its worth it for the extra features.\n",
    "\"\"\"\n",
    "\n",
    "review_template = \"\"\"\n",
    "For the following text, extract the following information:\n",
    "\n",
    "gift: Was the item purchased as a gift for someone else? Answer with True or False as values.\n",
    "delivery_days: How many days did it take for the product to get delivered? Answer with Integer.\n",
    "price_value:  Extract any sentences about the value or price,\n",
    "\n",
    "Format the output as JSON with the following keys:\n",
    "gift\n",
    "delivery_days\n",
    "price_value\n",
    "\n",
    "text: {text}\n",
    "\"\"\""
   ]
  },
  {
   "cell_type": "code",
   "execution_count": null,
   "id": "1626fc8c",
   "metadata": {},
   "outputs": [
    {
     "name": "stdout",
     "output_type": "stream",
     "text": [
      "input_variables=['text'] input_types={} partial_variables={} messages=[HumanMessagePromptTemplate(prompt=PromptTemplate(input_variables=['text'], input_types={}, partial_variables={}, template='\\nFor the following text, extract the following information:\\n\\ngift: Was the item purchased as a gift for someone else? Answer with True or False as values.\\ndelivery_days: How many days did it take for the product to get delivered? Answer with Integer.\\nprice_value:  Extract any sentences about the value or price,\\n\\nFormat the output as JSON with the following keys:\\ngift\\ndelivery_days\\nprice_value\\n\\ntext: {text}\\n'), additional_kwargs={})]\n"
     ]
    },
    {
     "name": "stderr",
     "output_type": "stream",
     "text": [
      "C:\\Users\\fredr\\AppData\\Local\\Temp\\ipykernel_7596\\3825791206.py:6: LangChainDeprecationWarning: The method `BaseChatModel.__call__` was deprecated in langchain-core 0.1.7 and will be removed in 1.0. Use :meth:`~invoke` instead.\n",
      "  response = chat(messages)\n"
     ]
    },
    {
     "name": "stdout",
     "output_type": "stream",
     "text": [
      "{\n",
      "  \"gift\": true,\n",
      "  \"delivery_days\": 2,\n",
      "  \"price_value\": \"Its slightly more expensive than the other leafblowers out there but I think its worth it for the extra features.\"\n",
      "}\n"
     ]
    }
   ],
   "source": [
    "prompt_template = ChatPromptTemplate.from_template(review_template)\n",
    "print(prompt_template)\n",
    "\n",
    "messages = prompt_template.format_messages(text=customer_review)\n",
    "chat = ChatGroq(temperature=0.0, model=\"openai/gpt-oss-120b\")\n",
    "response = chat(messages)\n",
    "print(response.content)"
   ]
  },
  {
   "cell_type": "code",
   "execution_count": null,
   "id": "4f004419",
   "metadata": {},
   "outputs": [
    {
     "data": {
      "text/plain": [
       "str"
      ]
     },
     "execution_count": 52,
     "metadata": {},
     "output_type": "execute_result"
    }
   ],
   "source": [
    "type(response.content)"
   ]
  },
  {
   "cell_type": "code",
   "execution_count": null,
   "id": "16355b2a",
   "metadata": {},
   "outputs": [],
   "source": [
    "from langchain.output_parsers import ResponseSchema, StructuredOutputParser\n",
    "\n",
    "response.content.get('gift')"
   ]
  },
  {
   "cell_type": "markdown",
   "id": "ab1581bb",
   "metadata": {},
   "source": [
    "**Preparing the Output Parser**"
   ]
  },
  {
   "cell_type": "code",
   "execution_count": null,
   "id": "08eb1dc8",
   "metadata": {},
   "outputs": [
    {
     "data": {
      "text/plain": [
       "'The output should be a markdown code snippet formatted in the following schema, including the leading and trailing \"```json\" and \"```\":\\n\\n```json\\n{\\n\\t\"gift\": string  // Was the item purchased as a gift for someone else? Answer with True or False as values.\\n\\t\"delivery_days\": string  // How many days did it take for the product to get delivered? Answer with Integer.\\n\\t\"price_value\": string  // Extract any sentences about the value or price\\n}\\n```'"
      ]
     },
     "execution_count": 62,
     "metadata": {},
     "output_type": "execute_result"
    }
   ],
   "source": [
    "gift_schema = ResponseSchema(name=\"gift\", description=\"Was the item purchased as a gift for someone else? Answer with True or False as values.\")\n",
    "delivery_days_schema = ResponseSchema(name=\"delivery_days\", description=\"How many days did it take for the product to get delivered? Answer with Integer.\")\n",
    "price_value_schema = ResponseSchema(name=\"price_value\", description=\"Extract any sentences about the value or price\")\n",
    "response_schema = [gift_schema, delivery_days_schema, price_value_schema]\n",
    "\n",
    "output_parser = StructuredOutputParser(response_schemas=response_schema)\n",
    "\n",
    "format_instructions = output_parser.get_format_instructions()\n",
    "format_instructions"
   ]
  },
  {
   "cell_type": "code",
   "execution_count": null,
   "id": "24b867b8",
   "metadata": {},
   "outputs": [
    {
     "name": "stdout",
     "output_type": "stream",
     "text": [
      "\n",
      "For the following text, extract the following information:\n",
      "\n",
      "gift: Was the item purchased as a gift for someone else? Answer with True or False as values.\n",
      "delivery_days: How many days did it take for the product to get delivered? Answer with Integer.\n",
      "price_value:  Extract any sentences about the value or price,\n",
      "\n",
      "text: This leafblower is pretty amazing. It has 4 settings: candle blower, gentle breeze, wind city and tornado. It arrived in 2 days, just in time for my wife's anniversary present. I think my wife liked it so much she was speechless. So far I've been the only one using it, and I've been using it every other morning to clear the leaves on our lawn. Its slightly more expensive than the other leafblowers out there but I think its worth it for the extra features.\n",
      "\n",
      "\n",
      "The output should be a markdown code snippet formatted in the following schema, including the leading and trailing \"```json\" and \"```\":\n",
      "\n",
      "```json\n",
      "{\n",
      "\t\"gift\": string  // Was the item purchased as a gift for someone else? Answer with True or False as values.\n",
      "\t\"delivery_days\": string  // How many days did it take for the product to get delivered? Answer with Integer.\n",
      "\t\"price_value\": string  // Extract any sentences about the value or price\n",
      "}\n",
      "```\n",
      "\n"
     ]
    }
   ],
   "source": [
    "review_template_2 = \"\"\"\n",
    "For the following text, extract the following information:\n",
    "\n",
    "gift: Was the item purchased as a gift for someone else? Answer with True or False as values.\n",
    "delivery_days: How many days did it take for the product to get delivered? Answer with Integer.\n",
    "price_value:  Extract any sentences about the value or price,\n",
    "\n",
    "text: {text}\n",
    "\n",
    "{format_instructions}\n",
    "\"\"\"\n",
    "\n",
    "prompt = ChatPromptTemplate.from_template(template=review_template_2)\n",
    "messages = prompt.format_messages(\n",
    "    text=customer_review, format_instructions=format_instructions\n",
    ")\n",
    "print(messages[0].content)"
   ]
  },
  {
   "cell_type": "code",
   "execution_count": null,
   "id": "6ec77cdd",
   "metadata": {},
   "outputs": [
    {
     "name": "stdout",
     "output_type": "stream",
     "text": [
      "```json\n",
      "{\n",
      "\t\"gift\": true,\n",
      "\t\"delivery_days\": 2,\n",
      "\t\"price_value\": \"Its slightly more expensive than the other leafblowers out there but I think its worth it for the extra features.\"\n",
      "}\n",
      "```\n"
     ]
    }
   ],
   "source": [
    "chat = ChatGroq(model=\"openai/gpt-oss-120b\", temperature=0.0)\n",
    "response = chat(messages)\n",
    "print(response.content)"
   ]
  },
  {
   "cell_type": "code",
   "execution_count": null,
   "id": "de7b6093",
   "metadata": {},
   "outputs": [
    {
     "name": "stdout",
     "output_type": "stream",
     "text": [
      "<class 'dict'>\n"
     ]
    },
    {
     "data": {
      "text/plain": [
       "{'gift': True,\n",
       " 'delivery_days': 2,\n",
       " 'price_value': 'Its slightly more expensive than the other leafblowers out there but I think its worth it for the extra features.'}"
      ]
     },
     "execution_count": 65,
     "metadata": {},
     "output_type": "execute_result"
    }
   ],
   "source": [
    "output_dict = output_parser.parse(response.content)\n",
    "print(type(output_dict))\n",
    "output_dict"
   ]
  }
 ],
 "metadata": {
  "kernelspec": {
   "display_name": "llm (3.13.2)",
   "language": "python",
   "name": "python3"
  },
  "language_info": {
   "codemirror_mode": {
    "name": "ipython",
    "version": 3
   },
   "file_extension": ".py",
   "mimetype": "text/x-python",
   "name": "python",
   "nbconvert_exporter": "python",
   "pygments_lexer": "ipython3",
   "version": "3.13.2"
  }
 },
 "nbformat": 4,
 "nbformat_minor": 5
}
