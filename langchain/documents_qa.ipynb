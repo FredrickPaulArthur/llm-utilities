{
 "cells": [
  {
   "cell_type": "code",
   "execution_count": null,
   "id": "e20390ce",
   "metadata": {},
   "outputs": [
    {
     "name": "stderr",
     "output_type": "stream",
     "text": [
      "c:\\Users\\fredr\\OneDrive\\Desktop\\llm-utilities\\llm\\Lib\\site-packages\\tqdm\\auto.py:21: TqdmWarning: IProgress not found. Please update jupyter and ipywidgets. See https://ipywidgets.readthedocs.io/en/stable/user_install.html\n",
      "  from .autonotebook import tqdm as notebook_tqdm\n",
      "C:\\Users\\fredr\\AppData\\Local\\Temp\\ipykernel_22252\\3306920769.py:7: LangChainDeprecationWarning: The class `HuggingFaceEmbeddings` was deprecated in LangChain 0.2.2 and will be removed in 1.0. An updated version of the class exists in the :class:`~langchain-huggingface package and should be used instead. To use it run `pip install -U :class:`~langchain-huggingface` and import as `from :class:`~langchain_huggingface import HuggingFaceEmbeddings``.\n",
      "  embedding_model = HuggingFaceEmbeddings(model_name=\"all-MiniLM-L6-v2\")\n"
     ]
    },
    {
     "data": {
      "text/plain": [
       "True"
      ]
     },
     "execution_count": 1,
     "metadata": {},
     "output_type": "execute_result"
    }
   ],
   "source": [
    "from langchain.chains import RetrievalQA\n",
    "from langchain_groq.chat_models import ChatGroq\n",
    "from langchain.document_loaders import CSVLoader\n",
    "from langchain.vectorstores import DocArrayInMemorySearch\n",
    "from langchain.indexes import VectorstoreIndexCreator\n",
    "from langchain.embeddings import HuggingFaceEmbeddings\n",
    "embedding_model = HuggingFaceEmbeddings(model_name=\"all-MiniLM-L6-v2\")\n",
    "llm = ChatGroq(api_key=os.environ[\"GROQ_API_KEY\"], model=\"openai/gpt-oss-120b\", temperature=0.9)\n",
    "\n",
    "from IPython.display import display, Markdown\n",
    "import os\n",
    "from pprint import pprint\n",
    "from dotenv import load_dotenv\n",
    "load_dotenv()"
   ]
  },
  {
   "cell_type": "code",
   "execution_count": 9,
   "id": "ab119601",
   "metadata": {},
   "outputs": [],
   "source": [
    "file = \"products_2000.csv\"\n",
    "loader = CSVLoader(file_path=file)\n",
    "\n",
    "index = VectorstoreIndexCreator(\n",
    "    embedding=embedding_model,\n",
    "    vectorstore_cls=DocArrayInMemorySearch\n",
    ").from_loaders([loader])"
   ]
  },
  {
   "cell_type": "code",
   "execution_count": 10,
   "id": "8fe66f2d",
   "metadata": {},
   "outputs": [
    {
     "data": {
      "text/markdown": [
       "Here are the names (titles) of all the Puma T‑shirts in the catalog:\n",
       "\n",
       "1. **Puma T-shirts Edition 7507**  \n",
       "2. **Puma T-shirts Classic 8590**  \n",
       "3. **Puma T-shirts X 8410**  \n",
       "4. **Puma T-shirts X 9577**"
      ],
      "text/plain": [
       "<IPython.core.display.Markdown object>"
      ]
     },
     "metadata": {},
     "output_type": "display_data"
    }
   ],
   "source": [
    "query = \"Please list the names of all of the Puma T-shirts.\"\n",
    "response = index.query(llm=llm, question=query)\n",
    "display(Markdown(response))\n",
    "\n",
    "# This will not be efficient enough."
   ]
  },
  {
   "cell_type": "markdown",
   "id": "11ce63a6",
   "metadata": {},
   "source": [
    "### Populating the Vector Database with the product chunks"
   ]
  },
  {
   "cell_type": "code",
   "execution_count": 11,
   "id": "10fb83a4",
   "metadata": {},
   "outputs": [
    {
     "name": "stdout",
     "output_type": "stream",
     "text": [
      "{'id': None,\n",
      " 'metadata': {'row': 1999, 'source': 'products_2000.csv'},\n",
      " 'page_content': 'product_id: 2002000\\n'\n",
      "                 'sku: AXE-02000\\n'\n",
      "                 'title: Axe Haircare (Shampoo Lite 4476\\n'\n",
      "                 'slug: axe-haircare-shampoo-lite-4476\\n'\n",
      "                 'brand: Axe\\n'\n",
      "                 'category: Haircare (Shampoo / Conditioner / Wax / Gel)\\n'\n",
      "                 'subcategory: Haircare (Shampoo\\n'\n",
      "                 'price: 74.59\\n'\n",
      "                 'discounted_price: 67.49\\n'\n",
      "                 'currency: USD\\n'\n",
      "                 'description: Axe Haircare (Shampoo Lite 4476: High-quality '\n",
      "                 'Haircare (Shampoo / Conditioner / Wax / Gel) product by Axe. '\n",
      "                 'Lightweight.\\n'\n",
      "                 'image_url: '\n",
      "                 'https://picsum.photos/seed/axe-haircare-shampoo-lite-4476/1200/1200\\n'\n",
      "                 'image_filename: axe-haircare-shampoo-lite-4476.jpg\\n'\n",
      "                 'available_countries: CA,DE\\n'\n",
      "                 'stock: 173\\n'\n",
      "                 'is_available: True\\n'\n",
      "                 'tags: sport,eco,leather\\n'\n",
      "                 'gender: Women\\n'\n",
      "                 'color: Olive\\n'\n",
      "                 'size: 34\\n'\n",
      "                 'material: Mesh\\n'\n",
      "                 'rating: 4\\n'\n",
      "                 'num_reviews: 2243\\n'\n",
      "                 'popularity_score: 79\\n'\n",
      "                 'weight_kg: 1.86\\n'\n",
      "                 'dimensions_cm: 16x49x1\\n'\n",
      "                 'manufactured_date: 09-10-2025\\n'\n",
      "                 'genre: ',\n",
      " 'type': 'Document'}\n"
     ]
    }
   ],
   "source": [
    "loader = CSVLoader(file_path=file)\n",
    "docs = loader.load()\n",
    "\n",
    "pprint(docs[1999].__dict__)"
   ]
  },
  {
   "cell_type": "code",
   "execution_count": 14,
   "id": "64769ec4",
   "metadata": {},
   "outputs": [
    {
     "data": {
      "text/plain": [
       "[Document(metadata={'source': 'products_2000.csv', 'row': 166}, page_content='product_id: 2000167\\nsku: PUM-00167\\ntitle: Puma T-shirts Edition 7507\\nslug: puma-t-shirts-edition-7507\\nbrand: Puma\\ncategory: T-shirts / Casual Shirts\\nsubcategory: T-shirts\\nprice: 183.85\\ndiscounted_price: 111.11\\ncurrency: USD\\ndescription: Puma T-shirts Edition 7507: High-quality T-shirts / Casual Shirts product by Puma. Stylish.\\nimage_url: https://picsum.photos/seed/puma-t-shirts-edition-7507/1200/1200\\nimage_filename: puma-t-shirts-edition-7507.jpg\\navailable_countries: US,DE,UK,FR\\nstock: 290\\nis_available: True\\ntags: premium,outdoor,casual\\ngender: Women\\ncolor: White\\nsize: One Size\\nmaterial: Canvas\\nrating: 4.8\\nnum_reviews: 3366\\npopularity_score: 80\\nweight_kg: 2.31\\ndimensions_cm: 41x43x31\\nmanufactured_date: 09-10-2025\\ngenre: '),\n",
       " Document(metadata={'source': 'products_2000.csv', 'row': 169}, page_content='product_id: 2000170\\nsku: PUM-00170\\ntitle: Puma T-shirts Classic 8590\\nslug: puma-t-shirts-classic-8590\\nbrand: Puma\\ncategory: T-shirts / Casual Shirts\\nsubcategory: T-shirts\\nprice: 176.47\\ndiscounted_price: 107.67\\ncurrency: USD\\ndescription: Puma T-shirts Classic 8590: High-quality T-shirts / Casual Shirts product by Puma. Durable.\\nimage_url: https://picsum.photos/seed/puma-t-shirts-classic-8590/1200/1200\\nimage_filename: puma-t-shirts-classic-8590.jpg\\navailable_countries: CA,US\\nstock: 127\\nis_available: True\\ntags: casual,wireless,sport\\ngender: Men\\ncolor: Red\\nsize: One Size\\nmaterial: Resin\\nrating: 4.6\\nnum_reviews: 4137\\npopularity_score: 89\\nweight_kg: 3.23\\ndimensions_cm: 48x6x16\\nmanufactured_date: 09-10-2025\\ngenre: '),\n",
       " Document(metadata={'source': 'products_2000.csv', 'row': 171}, page_content='product_id: 2000172\\nsku: PUM-00172\\ntitle: Puma T-shirts X 8410\\nslug: puma-t-shirts-x-8410\\nbrand: Puma\\ncategory: T-shirts / Casual Shirts\\nsubcategory: T-shirts\\nprice: 8.91\\ndiscounted_price: 7.78\\ncurrency: USD\\ndescription: Puma T-shirts X 8410: High-quality T-shirts / Casual Shirts product by Puma. Comfortable.\\nimage_url: https://picsum.photos/seed/puma-t-shirts-x-8410/1200/1200\\nimage_filename: puma-t-shirts-x-8410.jpg\\navailable_countries: UK,AU,CA,US\\nstock: 114\\nis_available: True\\ntags: portable,travel,fitness\\ngender: Men\\ncolor: Grey\\nsize: 8\\nmaterial: Plastic\\nrating: 4.7\\nnum_reviews: 3760\\npopularity_score: 81\\nweight_kg: 1.66\\ndimensions_cm: 48x38x40\\nmanufactured_date: 09-10-2025\\ngenre: '),\n",
       " Document(metadata={'source': 'products_2000.csv', 'row': 160}, page_content='product_id: 2000161\\nsku: PUM-00161\\ntitle: Puma T-shirts Lite 8947\\nslug: puma-t-shirts-lite-8947\\nbrand: Puma\\ncategory: T-shirts / Casual Shirts\\nsubcategory: T-shirts\\nprice: 78.19\\ndiscounted_price: 69.6\\ncurrency: USD\\ndescription: Puma T-shirts Lite 8947: High-quality T-shirts / Casual Shirts product by Puma. Stylish.\\nimage_url: https://picsum.photos/seed/puma-t-shirts-lite-8947/1200/1200\\nimage_filename: puma-t-shirts-lite-8947.jpg\\navailable_countries: UK,DE\\nstock: 37\\nis_available: True\\ntags: casual,budget,sport\\ngender: Men\\ncolor: Grey\\nsize: M\\nmaterial: Leather\\nrating: 3.7\\nnum_reviews: 3075\\npopularity_score: 61\\nweight_kg: 0.31\\ndimensions_cm: 10x26x39\\nmanufactured_date: 09-10-2025\\ngenre: ')]"
      ]
     },
     "execution_count": 14,
     "metadata": {},
     "output_type": "execute_result"
    }
   ],
   "source": [
    "query = \"Please suggest a Puma T-shirt.\"\n",
    "query_embedding = embedding_model.embed_query(query)\n",
    "\n",
    "db = DocArrayInMemorySearch.from_documents(docs, embedding_model)\n",
    "\n",
    "similar_docs = db.similarity_search(query=query)\n",
    "list(similar_docs)"
   ]
  },
  {
   "cell_type": "code",
   "execution_count": 15,
   "id": "721e330c",
   "metadata": {},
   "outputs": [
    {
     "data": {
      "text/plain": [
       "Document(metadata={'source': 'products_2000.csv', 'row': 166}, page_content='product_id: 2000167\\nsku: PUM-00167\\ntitle: Puma T-shirts Edition 7507\\nslug: puma-t-shirts-edition-7507\\nbrand: Puma\\ncategory: T-shirts / Casual Shirts\\nsubcategory: T-shirts\\nprice: 183.85\\ndiscounted_price: 111.11\\ncurrency: USD\\ndescription: Puma T-shirts Edition 7507: High-quality T-shirts / Casual Shirts product by Puma. Stylish.\\nimage_url: https://picsum.photos/seed/puma-t-shirts-edition-7507/1200/1200\\nimage_filename: puma-t-shirts-edition-7507.jpg\\navailable_countries: US,DE,UK,FR\\nstock: 290\\nis_available: True\\ntags: premium,outdoor,casual\\ngender: Women\\ncolor: White\\nsize: One Size\\nmaterial: Canvas\\nrating: 4.8\\nnum_reviews: 3366\\npopularity_score: 80\\nweight_kg: 2.31\\ndimensions_cm: 41x43x31\\nmanufactured_date: 09-10-2025\\ngenre: ')"
      ]
     },
     "execution_count": 15,
     "metadata": {},
     "output_type": "execute_result"
    }
   ],
   "source": [
    "similar_docs[0]"
   ]
  },
  {
   "cell_type": "markdown",
   "id": "da520967",
   "metadata": {},
   "source": [
    "### Retrieval"
   ]
  },
  {
   "cell_type": "code",
   "execution_count": 16,
   "id": "696c5d66",
   "metadata": {},
   "outputs": [
    {
     "data": {
      "text/markdown": [
       "**Shirts with Sun‑Protection (based on “outdoor” tag)**  \n",
       "\n",
       "| Product ID | SKU       | Title                         | Price (USD) | Discounted Price (USD) | Color | Size      | Material | Rating | Reviews | Stock | Availability | Summary |\n",
       "|------------|-----------|------------------------------|------------|------------------------|-------|-----------|----------|--------|---------|-------|--------------|---------|\n",
       "| 2000167    | PUM‑00167 | Puma T‑shirts Edition 7507   | 183.85     | 111.11                 | White | One Size  | Canvas   | 4.8    | 3 366   | 290   | In stock     | Premium women’s T‑shirt designed for outdoor activities. Made of sturdy canvas, it offers a comfortable fit, high durability and likely includes UV‑blocking features (indicated by the “outdoor” tag). Ideal for casual wear with a stylish white look. |\n",
       "\n",
       "**Note:**  \n",
       "- The only shirt in the supplied list that hints at sun‑protection is the **Puma T‑shirts Edition 7507**, thanks to its `outdoor` tag.  \n",
       "- None of the other shirts explicitly mention sun‑protection in their tags or descriptions. If you need more options, let me know and I can help you filter by other criteria!"
      ],
      "text/plain": [
       "<IPython.core.display.Markdown object>"
      ]
     },
     "metadata": {},
     "output_type": "display_data"
    }
   ],
   "source": [
    "retriever = db.as_retriever()\n",
    "qdocs = \"\".join([similar_docs[i].page_content for i in range(len(similar_docs))])\n",
    "response = llm.call_as_llm(f\"{qdocs} Question: Please list all your \\\n",
    "shirts with sun protection in a table in markdown and summarize each one.\")\n",
    "\n",
    "display(Markdown(response))"
   ]
  },
  {
   "cell_type": "markdown",
   "id": "8c568bc2",
   "metadata": {},
   "source": [
    "### Retrieval QA Chain\n",
    "\n",
    "Chain Types,\n",
    "\n",
    "- stuff\n",
    "- map_reduce\n",
    "- refine\n",
    "- map_rerank"
   ]
  },
  {
   "cell_type": "markdown",
   "id": "a309ec63",
   "metadata": {},
   "source": [
    "**\"stuff\" method**"
   ]
  },
  {
   "cell_type": "code",
   "execution_count": 17,
   "id": "ea97c7a2",
   "metadata": {},
   "outputs": [
    {
     "name": "stderr",
     "output_type": "stream",
     "text": [
      "C:\\Users\\fredr\\AppData\\Local\\Temp\\ipykernel_22252\\908938858.py:6: LangChainDeprecationWarning: The method `Chain.run` was deprecated in langchain 0.1.0 and will be removed in 1.0. Use :meth:`~invoke` instead.\n",
      "  response = qa_stuff.run(query)\n"
     ]
    },
    {
     "name": "stdout",
     "output_type": "stream",
     "text": [
      "\n",
      "\n",
      "\u001b[1m> Entering new RetrievalQA chain...\u001b[0m\n",
      "\n",
      "\u001b[1m> Finished chain.\u001b[0m\n"
     ]
    },
    {
     "data": {
      "text/markdown": [
       "Here are a few of the Puma T‑shirts we have in stock, along with the details that might help you decide which one fits you best:\n",
       "\n",
       "| # | Product | Who it’s for | Color | Size | Material | Original Price | Discounted Price | Rating | Stock |\n",
       "|---|---------|--------------|-------|------|----------|----------------|------------------|--------|-------|\n",
       "| 1 | **Puma T‑shirts Classic 8590** | Men | Red | One Size | Resin | **$176.47** | **$107.67** | 4.6 ★ (4 ,137 reviews) | 127 |\n",
       "| 2 | **Puma T‑shirts Edition 7507** | Women | White | One Size | Canvas | **$183.85** | **$111.11** | 4.8 ★ (3 366 reviews) | 290 |\n",
       "| 3 | **Puma T‑shirts X 8410** | Men | Grey | 8 | Plastic | **$8.91** | **$7.78** | 4.7 ★ (3 760 reviews) | 114 |\n",
       "| 4 | **Puma T‑shirts Lite 8947** | Men | Grey | M | Leather | **$78.19** | **$69.60** | 3.7 ★ (3 075 reviews) | 37 |\n",
       "\n",
       "### Quick recommendation\n",
       "\n",
       "- **If you want a high‑rated, premium‑look tee for women** – go with **Puma T‑shirts Edition 7507** (white, canvas, 4.8★).  \n",
       "- **If you prefer a popular, sporty red tee for men** – **Puma T‑shirts Classic 8590** is a solid choice (4.6★, high popularity).  \n",
       "- **If you’re looking for an ultra‑budget option** – the **Puma T‑shirts X 8410** costs under $8 after discount and still has a strong 4.7★ rating.  \n",
       "\n",
       "Let me know if you have a specific gender, color, size, or price range in mind, and I can narrow it down further!"
      ],
      "text/plain": [
       "<IPython.core.display.Markdown object>"
      ]
     },
     "metadata": {},
     "output_type": "display_data"
    }
   ],
   "source": [
    "qa_stuff = RetrievalQA.from_chain_type(\n",
    "    llm=llm, chain_type=\"stuff\",\n",
    "    retriever=retriever, verbose=True\n",
    ")\n",
    "query = \"Please suggest a Puma T-shirt.\"\n",
    "response = qa_stuff.run(query)\n",
    "\n",
    "display(Markdown(response))"
   ]
  },
  {
   "cell_type": "code",
   "execution_count": 18,
   "id": "b5afb6a3",
   "metadata": {},
   "outputs": [],
   "source": [
    "response = index.query(query, llm=llm)\n",
    "index = VectorstoreIndexCreator(\n",
    "    vectorstore_cls=DocArrayInMemorySearch,\n",
    "    embedding = embedding_model\n",
    ").from_loaders([loader])"
   ]
  }
 ],
 "metadata": {
  "kernelspec": {
   "display_name": "llm (3.13.2)",
   "language": "python",
   "name": "python3"
  },
  "language_info": {
   "codemirror_mode": {
    "name": "ipython",
    "version": 3
   },
   "file_extension": ".py",
   "mimetype": "text/x-python",
   "name": "python",
   "nbconvert_exporter": "python",
   "pygments_lexer": "ipython3",
   "version": "3.13.2"
  }
 },
 "nbformat": 4,
 "nbformat_minor": 5
}
