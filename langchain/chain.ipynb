{
 "cells": [
  {
   "cell_type": "code",
   "execution_count": 1,
   "id": "33f4a64a",
   "metadata": {},
   "outputs": [
    {
     "name": "stderr",
     "output_type": "stream",
     "text": [
      "c:\\Users\\fredr\\OneDrive\\Desktop\\llm-utilities\\llm\\Lib\\site-packages\\tqdm\\auto.py:21: TqdmWarning: IProgress not found. Please update jupyter and ipywidgets. See https://ipywidgets.readthedocs.io/en/stable/user_install.html\n",
      "  from .autonotebook import tqdm as notebook_tqdm\n",
      "None of PyTorch, TensorFlow >= 2.0, or Flax have been found. Models won't be available and only tokenizers, configuration and file/data utilities can be used.\n"
     ]
    },
    {
     "data": {
      "text/html": [
       "<div>\n",
       "<style scoped>\n",
       "    .dataframe tbody tr th:only-of-type {\n",
       "        vertical-align: middle;\n",
       "    }\n",
       "\n",
       "    .dataframe tbody tr th {\n",
       "        vertical-align: top;\n",
       "    }\n",
       "\n",
       "    .dataframe thead th {\n",
       "        text-align: right;\n",
       "    }\n",
       "</style>\n",
       "<table border=\"1\" class=\"dataframe\">\n",
       "  <thead>\n",
       "    <tr style=\"text-align: right;\">\n",
       "      <th></th>\n",
       "      <th>title</th>\n",
       "      <th>description</th>\n",
       "    </tr>\n",
       "  </thead>\n",
       "  <tbody>\n",
       "    <tr>\n",
       "      <th>0</th>\n",
       "      <td>Nike Footwear Max 410</td>\n",
       "      <td>Nike Footwear Max 410: High-quality Footwear /...</td>\n",
       "    </tr>\n",
       "    <tr>\n",
       "      <th>1</th>\n",
       "      <td>Nike Footwear X 3612</td>\n",
       "      <td>Nike Footwear X 3612: High-quality Footwear / ...</td>\n",
       "    </tr>\n",
       "    <tr>\n",
       "      <th>2</th>\n",
       "      <td>Nike Footwear Max 6202</td>\n",
       "      <td>Nike Footwear Max 6202: High-quality Footwear ...</td>\n",
       "    </tr>\n",
       "    <tr>\n",
       "      <th>3</th>\n",
       "      <td>Nike Footwear Classic 8752</td>\n",
       "      <td>Nike Footwear Classic 8752: High-quality Footw...</td>\n",
       "    </tr>\n",
       "    <tr>\n",
       "      <th>4</th>\n",
       "      <td>Nike Footwear 2025 6483</td>\n",
       "      <td>Nike Footwear 2025 6483: High-quality Footwear...</td>\n",
       "    </tr>\n",
       "  </tbody>\n",
       "</table>\n",
       "</div>"
      ],
      "text/plain": [
       "                        title  \\\n",
       "0       Nike Footwear Max 410   \n",
       "1        Nike Footwear X 3612   \n",
       "2      Nike Footwear Max 6202   \n",
       "3  Nike Footwear Classic 8752   \n",
       "4     Nike Footwear 2025 6483   \n",
       "\n",
       "                                         description  \n",
       "0  Nike Footwear Max 410: High-quality Footwear /...  \n",
       "1  Nike Footwear X 3612: High-quality Footwear / ...  \n",
       "2  Nike Footwear Max 6202: High-quality Footwear ...  \n",
       "3  Nike Footwear Classic 8752: High-quality Footw...  \n",
       "4  Nike Footwear 2025 6483: High-quality Footwear...  "
      ]
     },
     "execution_count": 1,
     "metadata": {},
     "output_type": "execute_result"
    }
   ],
   "source": [
    "import os\n",
    "import pandas as pd\n",
    "from langchain_groq.chat_models import ChatGroq\n",
    "from langchain.prompts import ChatPromptTemplate\n",
    "from pprint import pprint\n",
    "from dotenv import load_dotenv\n",
    "load_dotenv()\n",
    "\n",
    "df = pd.read_csv(\"products_2000.csv\", nrows=10, usecols=[\"title\", \"description\"])\n",
    "df.head()"
   ]
  },
  {
   "cell_type": "markdown",
   "id": "7c9d6226",
   "metadata": {},
   "source": [
    "**LLMChain**"
   ]
  },
  {
   "cell_type": "code",
   "execution_count": 2,
   "id": "b72482f2",
   "metadata": {},
   "outputs": [
    {
     "name": "stderr",
     "output_type": "stream",
     "text": [
      "C:\\Users\\fredr\\AppData\\Local\\Temp\\ipykernel_3928\\351539572.py:7: LangChainDeprecationWarning: The class `LLMChain` was deprecated in LangChain 0.1.17 and will be removed in 1.0. Use :meth:`~RunnableSequence, e.g., `prompt | llm`` instead.\n",
      "  chain = LLMChain(llm=llm, prompt=prompt)\n",
      "C:\\Users\\fredr\\AppData\\Local\\Temp\\ipykernel_3928\\351539572.py:9: LangChainDeprecationWarning: The method `Chain.run` was deprecated in langchain 0.1.0 and will be removed in 1.0. Use :meth:`~invoke` instead.\n",
      "  print(chain.run(product=product))\n"
     ]
    },
    {
     "name": "stdout",
     "output_type": "stream",
     "text": [
      "Below are a handful of name ideas — and a quick checklist you can use to decide which one fits your vision best. Feel free to mix‑and‑match words, add a twist, or use the list as a springboard for your own brainstorming.\n",
      "\n",
      "---\n",
      "\n",
      "## 1️⃣  Ready‑to‑Use Names\n",
      "\n",
      "| # | Name | Why It Works |\n",
      "|---|------|--------------|\n",
      "| 1 | **StrideForce** | Conveys power and forward motion; “stride” is instantly linked to running. |\n",
      "| 2 | **RunVantage** | Suggests a competitive edge (“advantage”) for runners. |\n",
      "| 3 | **Velocity Sole** | Highlights speed while reminding shoppers that it’s a shoe. |\n",
      "| 4 | **PulseFoot** | “Pulse” evokes heart‑rate, energy, and rhythm—key to running. |\n",
      "| 5 | **AeroStride** | “Aero” hints at lightweight, breathable tech. |\n",
      "| 6 | **Kinetic Kicks** | Fun, memorable, and emphasizes movement. |\n",
      "| 7 | **TrailBlaze Performance** | Works if you target both road and trail runners; “blaze” = fast. |\n",
      "| 8 | **Momentum Gear** | Implies continuous forward motion—exactly what runners want. |\n",
      "| 9 | **FastLane Footwear** | Simple, direct, and instantly tells the buyer the brand is about speed. |\n",
      "|10| **Nimbus Run** | “Nimbus” (cloud) suggests lightness and cushioning. |\n",
      "\n",
      "---\n",
      "\n",
      "## 2️⃣  Naming Framework (If You Want to Create Your Own)\n",
      "\n",
      "| Element | Example Words | How to Use |\n",
      "|---------|---------------|-----------|\n",
      "| **Core Activity** | Run, Sprint, Pace, Stride, Dash, Glide | Place it at the front or back (e.g., “RunTech”, “GlideWorks”). |\n",
      "| **Performance Cue** | Velocity, Momentum, Edge, Boost, Surge, Apex | Pair with a core activity (e.g., “StrideBoost”). |\n",
      "| **Material/Tech Cue** | Aero, Flex, Cloud, Mesh, Lite, Pulse | Good for highlighting a unique technology (e.g., “AeroFlex”). |\n",
      "| **Emotion/Benefit** | Freedom, Power, Rhythm, Drive, Zen | Adds a lifestyle feel (e.g., “PowerStride”). |\n",
      "| **Suffix** |‑Fit, ‑Gear, ‑Works, ‑Lab, ‑Co, ‑Sport | Gives a corporate feel (e.g., “RunFit Co.”). |\n",
      "\n",
      "**Combine** 2–3 of the above elements, keep it under 12 characters if possible (easier for logos & domains), and test for pronunciation and memorability.\n",
      "\n",
      "---\n",
      "\n",
      "## 3️⃣  Quick Self‑Audit Checklist\n",
      "\n",
      "| Question | Yes/No | What to Fix |\n",
      "|----------|--------|------------|\n",
      "| **Is it easy to pronounce and spell?** | | Avoid obscure spellings (e.g., “Kynetik”). |\n",
      "| **Does it hint at running or performance?** | | Add a word like “Run”, “Stride”, or “Velocity”. |\n",
      "| **Is it unique enough for trademark & domain?** | | Run a quick search on USPTO (or your country’s office) and check <https://namechk.com>. |\n",
      "| **Does it work in the markets you serve?** | | Test with a small focus group from your target region. |\n",
      "| **Is a .com (or your preferred TLD) available?** | | If not, consider adding “Shoes”, “Footwear”, or a short descriptor. |\n",
      "| **Does it fit your brand personality (techy, premium, rugged, fun)?** | | Adjust tone: “Aero” = tech, “Blaze” = energetic, “Zen” = relaxed. |\n",
      "| **Is it scalable?** | | Will the name still make sense if you later add apparel or accessories? |\n",
      "\n",
      "---\n",
      "\n",
      "## 4️⃣  Next Steps\n",
      "\n",
      "1. **Shortlist 3–5 favorites** from the list above or the framework you built.\n",
      "2. **Check domain availability** (preferably a .com; if you’re a niche brand, a .shop or .run can work too).\n",
      "3. **Run a trademark search** in the primary country where you’ll sell.\n",
      "4. **Test with real runners** – a quick Instagram poll or a 5‑person focus group can surface any hidden issues.\n",
      "5. **Finalize the visual identity** – the name should inspire a logo that can be read at a glance on a shoe tongue.\n",
      "\n",
      "---\n",
      "\n",
      "### 🎯 Quick Name Generator\n",
      "\n",
      "If you’d rather spin your own, plug the following into a spreadsheet:\n",
      "\n",
      "```\n",
      "=CHOOSE(RANDBETWEEN(1,5), \"Run\",\"Stride\",\"Pulse\",\"Aero\",\"Velocity\") &\n",
      " CHOOSE(RANDBETWEEN(1,5), \"Force\",\"Edge\",\"Flex\",\"Boost\",\"Lab\")\n",
      "```\n",
      "\n",
      "Refresh a few times and you’ll get combos like **RunBoost**, **AeroFlex**, **VelocityEdge**, etc.\n",
      "\n",
      "---\n",
      "\n",
      "**Bottom line:** Choose a name that instantly says “running shoes” *and* conveys the key benefit you want runners to feel—speed, comfort, or tech. The suggestions above hit those marks, but the final decision should feel right for you and your future customers. Good luck, and happy naming! 🚀\n"
     ]
    }
   ],
   "source": [
    "from langchain.chains import LLMChain\n",
    "\n",
    "\n",
    "llm = ChatGroq(api_key=os.environ[\"GROQ_API_KEY\"], model=\"openai/gpt-oss-120b\", temperature=0.9)\n",
    "prompt = ChatPromptTemplate.from_template(\"What is the best name to describe a company that makes {product}\")\n",
    "\n",
    "chain = LLMChain(llm=llm, prompt=prompt)\n",
    "product = \"Running Shoes\"\n",
    "print(chain.run(product=product))"
   ]
  },
  {
   "cell_type": "markdown",
   "id": "e674929c",
   "metadata": {},
   "source": [
    "**SequentialChain**\n",
    "\n",
    "1. SimpleSequentialChain - single input/output\n",
    "2. SequentialChain - multiple inputs/outputs"
   ]
  },
  {
   "cell_type": "code",
   "execution_count": 3,
   "id": "a8228afd",
   "metadata": {},
   "outputs": [
    {
     "name": "stdout",
     "output_type": "stream",
     "text": [
      "\n",
      "\n",
      "\u001b[1m> Entering new SimpleSequentialChain chain...\u001b[0m\n",
      "\u001b[36;1m\u001b[1;3mStride\u001b[0m\n",
      "\u001b[33;1m\u001b[1;3mStride empowers businesses with AI-driven analytics, delivering real-time insights, scalable solutions, and seamless integration for sustainable growth across global markets.\u001b[0m\n",
      "\n",
      "\u001b[1m> Finished chain.\u001b[0m\n"
     ]
    },
    {
     "data": {
      "text/plain": [
       "'Stride empowers businesses with AI-driven analytics, delivering real-time insights, scalable solutions, and seamless integration for sustainable growth across global markets.'"
      ]
     },
     "execution_count": 3,
     "metadata": {},
     "output_type": "execute_result"
    }
   ],
   "source": [
    "from langchain.chains import SimpleSequentialChain\n",
    "llm = ChatGroq(api_key=os.environ[\"GROQ_API_KEY\"], model=\"openai/gpt-oss-120b\", temperature=0.9)\n",
    "\n",
    "\n",
    "first_prompt = ChatPromptTemplate.from_template(\"What is the best name to describe a company that makes {product}? Answer in one word.\")\n",
    "chain_one = LLMChain(llm=llm, prompt=first_prompt)\n",
    "\n",
    "second_prompt = ChatPromptTemplate.from_template(\"Write a 20 word description for the following company: {company_name}\")\n",
    "chain_two = LLMChain(llm=llm, prompt=second_prompt)\n",
    "\n",
    "overall_simple_chain = SimpleSequentialChain(chains=[chain_one, chain_two], verbose=True)\n",
    "\n",
    "overall_simple_chain.run(product)"
   ]
  },
  {
   "cell_type": "code",
   "execution_count": 4,
   "id": "e7ceab1e",
   "metadata": {},
   "outputs": [
    {
     "name": "stdout",
     "output_type": "stream",
     "text": [
      "\n",
      "\n",
      "\u001b[1m> Entering new SequentialChain chain...\u001b[0m\n",
      "\n",
      "\u001b[1m> Finished chain.\u001b[0m\n"
     ]
    },
    {
     "data": {
      "text/plain": [
       "'Отлично! Ваше описание уже подчёркивает ключевые преимущества Runwear, но позвольте добавить несколько деталей, которые могут ещё больше убедить потенциальных покупателей.\\n\\nRunwear действительно сочетает в себе высокое качество материалов и стильный дизайн, что делает их одежду не только функциональной, но и визуально привлекательной. Технология «breathable mesh» обеспечивает оптимальную вентиляцию, позволяя коже «дышать» даже во время интенсивных тренировок в жаркую погоду. Благодаря использованию износостойких волокон, изделия сохраняют форму и цвет после многочисленных стирок, что особенно важно для тех, кто бегает регулярно.\\n\\nКроме того, продуманные крои и эластичные швы снижают риск натираний и обеспечивают свободу движений, что напрямую влияет на комфорт и эффективность тренировок. Многие спортсмены отмечают, что наличие ярких, но не кричащих цветов повышает мотивацию и делает процесс бега более приятным.\\n\\nЕсли подытожить, Runwear — это не просто спортивная одежда, а надёжный партнёр, который помогает бегунам достигать новых личных рекордов, оставаясь стильными и уверенными в себе. Рекомендую обратить внимание на их новые коллекции, особенно на модели с технологией «quick‑dry», которые идеально подходят для утренних пробежек в переменчивую погоду.'"
      ]
     },
     "execution_count": 4,
     "metadata": {},
     "output_type": "execute_result"
    }
   ],
   "source": [
    "from langchain.chains import SequentialChain\n",
    "\n",
    "llm = ChatGroq(api_key=os.environ['GROQ_API_KEY'], temperature=0.0, model=\"openai/gpt-oss-120b\")\n",
    "\n",
    "first_prompt = ChatPromptTemplate.from_template(\"Translate the following review to English: \\n\\n{Review}\")\n",
    "chain_one = LLMChain(llm=llm, prompt=first_prompt, output_key=\"EnglishReview\")\n",
    "\n",
    "second_prompt = ChatPromptTemplate.from_template(\"Can you summarize the following review in 1 sentence: \\n\\n{EnglishReview}\")\n",
    "chain_two = LLMChain(llm=llm, prompt=second_prompt, output_key=\"summary\")\n",
    "\n",
    "third_prompt = ChatPromptTemplate.from_template(\"What language is the following review: \\n\\n{Review}\")\n",
    "chain_three = LLMChain(llm=llm, prompt=third_prompt, output_key=\"language\")\n",
    "\n",
    "fourth_prompt = ChatPromptTemplate.from_template(\n",
    "    \"Write a follow up response to the following summary in the specified language: \\nSummary: {summary}\\n\\nLanguage: {language}\"\n",
    ")\n",
    "chain_four = LLMChain(llm=llm, prompt=fourth_prompt, output_key=\"followup_message\")\n",
    "\n",
    "\n",
    "review = \"Runwear - отличная компания, создающая высококачественную спортивную одежду для бегунов. Их продукция сочетает в себе передовые технологии и стильный дизайн. Одежда комфортная, дышащая и долговечная, идеально подходит для интенсивных тренировок. Runwear мотивирует и помогает достигать лучших результатов. Рекомендую всем, кто ценит комфорт и производительность!\"\n",
    "\n",
    "overall_sequential_chain = SequentialChain(\n",
    "    chains=[chain_one, chain_two, chain_three, chain_four],\n",
    "    input_variables=[\"Review\"],\n",
    "    output_variables=[\"followup_message\"],\n",
    "    verbose=True\n",
    ")\n",
    "overall_sequential_chain.run(Review=review)"
   ]
  },
  {
   "cell_type": "code",
   "execution_count": 5,
   "id": "728e2c50",
   "metadata": {},
   "outputs": [
    {
     "name": "stderr",
     "output_type": "stream",
     "text": [
      "c:\\Users\\fredr\\OneDrive\\Desktop\\llm-utilities\\langchain\\templates.py:48: SyntaxWarning: invalid escape sequence '\\ '\n",
      "  MULTI_PROMPT_ROUTER_TEMPLATE = \"\"\"\n"
     ]
    }
   ],
   "source": [
    "from langchain.chains.router import MultiPromptChain\n",
    "from langchain.chains.router.llm_router import LLMRouterChain, RouterOutputParser\n",
    "from langchain.prompts import PromptTemplate\n",
    "import templates"
   ]
  },
  {
   "cell_type": "markdown",
   "id": "7fea6113",
   "metadata": {},
   "source": [
    "### Destination Chain"
   ]
  },
  {
   "cell_type": "code",
   "execution_count": 6,
   "id": "6b3cc4c3",
   "metadata": {},
   "outputs": [
    {
     "name": "stdout",
     "output_type": "stream",
     "text": [
      "('Physics_Chain: Good for answering questions about classical and modern '\n",
      " 'physics, including mechanics, electromagnetism, quantum theory, relativity, '\n",
      " 'and thermodynamics.\\n'\n",
      " 'Math_Chain: Ideal for solving and explaining mathematical problems across '\n",
      " 'algebra, calculus, geometry, number theory, and more abstract areas.\\n'\n",
      " 'History_Chain: Useful for exploring historical events, timelines, causes and '\n",
      " 'consequences, and broader thematic connections across world history.\\n'\n",
      " 'Computerscience_Chain: Great for programming help, understanding algorithms, '\n",
      " 'system design, AI/ML topics, and theoretical computer science problems.')\n"
     ]
    }
   ],
   "source": [
    "llm = ChatGroq(api_key=os.environ['GROQ_API_KEY'], temperature=0.0, model=\"llama-3.3-70b-versatile\")\n",
    "\n",
    "destination_chains = {}\n",
    "\n",
    "for p_info in templates.prompt_infos:\n",
    "    name = p_info[\"name\"]\n",
    "    prompt_template = p_info[\"prompt_template\"]\n",
    "    prompt = ChatPromptTemplate.from_template(template=prompt_template)\n",
    "    chain = LLMChain(llm=llm, prompt=prompt)\n",
    "    destination_chains[name] = chain\n",
    "\n",
    "destinations = [f\"{p['name']}: {p['description']}\" for p in templates.prompt_infos]\n",
    "destinations_str = \"\\n\".join(destinations)\n",
    "pprint(destinations_str)"
   ]
  },
  {
   "cell_type": "markdown",
   "id": "7fb60eaa",
   "metadata": {},
   "source": [
    "### Router Chain"
   ]
  },
  {
   "cell_type": "code",
   "execution_count": 7,
   "id": "ae37a5b4",
   "metadata": {},
   "outputs": [],
   "source": [
    "router_template = templates.MULTI_PROMPT_ROUTER_TEMPLATE.format(destinations=destinations_str)\n",
    "\n",
    "router_prompt = PromptTemplate(\n",
    "    template=router_template, input_variables=['input'],\n",
    "    output_parser=RouterOutputParser()\n",
    ")\n",
    "\n",
    "router_chain = LLMRouterChain.from_llm(llm, router_prompt)"
   ]
  },
  {
   "cell_type": "markdown",
   "id": "b7ecc239",
   "metadata": {},
   "source": [
    "### Default Chain"
   ]
  },
  {
   "cell_type": "code",
   "execution_count": 8,
   "id": "791117f2",
   "metadata": {},
   "outputs": [],
   "source": [
    "default_prompt = ChatPromptTemplate.from_template(\"{input}\")\n",
    "default_chain = LLMChain(llm=llm, prompt=default_prompt)"
   ]
  },
  {
   "cell_type": "code",
   "execution_count": 11,
   "id": "554ee962",
   "metadata": {},
   "outputs": [
    {
     "name": "stdout",
     "output_type": "stream",
     "text": [
      "\n",
      "\n",
      "\u001b[1m> Entering new MultiPromptChain chain...\u001b[0m\n",
      "Physics_Chain: {'input': 'Explain black body radiation in 4 sentences'}\n",
      "\u001b[1m> Finished chain.\u001b[0m\n",
      "('Black body radiation refers to the thermal electromagnetic radiation emitted by an object at a certain temperature, with the object '\n",
      " 'being a perfect absorber of all incident radiation, hence the term \"black body\". As the temperature of the black body increases, the '\n",
      " 'radiation emitted spans a wide range of wavelengths, from radio waves to gamma rays, with the peak wavelength shifting to shorter '\n",
      " \"wavelengths according to Wien's displacement law. The distribution of radiation intensity versus wavelength is described by Planck's \"\n",
      " 'law, which introduced the concept of quantized energy and laid the foundation for quantum mechanics. At different temperatures, the '\n",
      " 'black body radiation spectrum changes, with examples including the red glow of heated metal, the yellow light of the sun, and the cosmic '\n",
      " 'microwave background radiation, which is the residual heat from the Big Bang.')\n"
     ]
    }
   ],
   "source": [
    "chain = MultiPromptChain(\n",
    "    router_chain=router_chain,\n",
    "    destination_chains=destination_chains,\n",
    "    default_chain=default_chain,\n",
    "    verbose=True\n",
    ")\n",
    "\n",
    "pprint(chain.run(\"What is black body radiation? Explain with 4 sentences\"), width=140)"
   ]
  },
  {
   "cell_type": "code",
   "execution_count": 10,
   "id": "827483e3",
   "metadata": {},
   "outputs": [
    {
     "name": "stdout",
     "output_type": "stream",
     "text": [
      "\n",
      "\n",
      "\u001b[1m> Entering new MultiPromptChain chain...\u001b[0m\n",
      "None: {'input': 'Why does every cell in the human body contain DNA? Explain the role of DNA in cells with 3 sentences.'}\n",
      "\u001b[1m> Finished chain.\u001b[0m\n",
      "('Every cell in the human body contains DNA because it serves as the genetic blueprint for the cell, providing instructions for growth, '\n",
      " 'development, and function. The role of DNA in cells is to store and transmit genetic information, allowing cells to produce proteins, '\n",
      " 'replicate, and respond to their environment. By containing DNA, cells can access the necessary genetic instructions to perform their '\n",
      " 'specific functions, maintain cellular processes, and contribute to the overall health and development of the individual.')\n"
     ]
    }
   ],
   "source": [
    "pprint(chain.run(\"Why does every cell in our body contain DNA? Explain with 3 sentences\"), width=140)"
   ]
  }
 ],
 "metadata": {
  "kernelspec": {
   "display_name": "llm (3.13.2)",
   "language": "python",
   "name": "python3"
  },
  "language_info": {
   "codemirror_mode": {
    "name": "ipython",
    "version": 3
   },
   "file_extension": ".py",
   "mimetype": "text/x-python",
   "name": "python",
   "nbconvert_exporter": "python",
   "pygments_lexer": "ipython3",
   "version": "3.13.2"
  }
 },
 "nbformat": 4,
 "nbformat_minor": 5
}
